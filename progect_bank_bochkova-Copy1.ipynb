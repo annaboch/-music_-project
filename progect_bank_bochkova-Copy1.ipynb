{
 "cells": [
  {
   "cell_type": "markdown",
   "id": "4f11de00",
   "metadata": {
    "deletable": false,
    "editable": false,
    "id": "4f11de00"
   },
   "source": [
    "# Исследование надежности заемщиков"
   ]
  },
  {
   "cell_type": "markdown",
   "id": "f09d6878",
   "metadata": {
    "deletable": false,
    "editable": false,
    "id": "f09d6878"
   },
   "source": [
    "Это первая часть проекта, она будет проверена автоматически. Вторую часть проверит ревьюер. "
   ]
  },
  {
   "cell_type": "markdown",
   "id": "516620ee",
   "metadata": {
    "deletable": false,
    "editable": false,
    "id": "516620ee"
   },
   "source": [
    "## Откройте таблицу и изучите общую информацию о данных"
   ]
  },
  {
   "cell_type": "markdown",
   "id": "76a8a9ce",
   "metadata": {
    "deletable": false,
    "editable": false,
    "id": "76a8a9ce",
    "tags": [
     "start_task"
    ]
   },
   "source": [
    "**Задание 1. Импортируйте библиотеку pandas. Считайте данные из csv-файла в датафрейм и сохраните в переменную `data`. Путь к файлу:**\n",
    "\n",
    "`/datasets/data.csv`"
   ]
  },
  {
   "cell_type": "code",
   "execution_count": 83,
   "id": "fab207d0",
   "metadata": {
    "id": "fab207d0"
   },
   "outputs": [],
   "source": [
    "import pandas as pd\n",
    "# импортируйте библиотеку pandas"
   ]
  },
  {
   "cell_type": "code",
   "execution_count": 84,
   "id": "6c82b607",
   "metadata": {
    "id": "6c82b607"
   },
   "outputs": [],
   "source": [
    "# прочитайте csv-файл\n",
    "data = pd.read_csv('/datasets/data.csv')"
   ]
  },
  {
   "cell_type": "markdown",
   "id": "08bbb5b3",
   "metadata": {
    "deletable": false,
    "editable": false,
    "id": "08bbb5b3",
    "tags": [
     "start_task"
    ]
   },
   "source": [
    "**Задание 2. Выведите первые 20 строчек датафрейма `data` на экран.**"
   ]
  },
  {
   "cell_type": "code",
   "execution_count": 85,
   "id": "4ff33b36",
   "metadata": {
    "id": "4ff33b36"
   },
   "outputs": [
    {
     "data": {
      "text/html": [
       "<div>\n",
       "<style scoped>\n",
       "    .dataframe tbody tr th:only-of-type {\n",
       "        vertical-align: middle;\n",
       "    }\n",
       "\n",
       "    .dataframe tbody tr th {\n",
       "        vertical-align: top;\n",
       "    }\n",
       "\n",
       "    .dataframe thead th {\n",
       "        text-align: right;\n",
       "    }\n",
       "</style>\n",
       "<table border=\"1\" class=\"dataframe\">\n",
       "  <thead>\n",
       "    <tr style=\"text-align: right;\">\n",
       "      <th></th>\n",
       "      <th>children</th>\n",
       "      <th>days_employed</th>\n",
       "      <th>dob_years</th>\n",
       "      <th>education</th>\n",
       "      <th>education_id</th>\n",
       "      <th>family_status</th>\n",
       "      <th>family_status_id</th>\n",
       "      <th>gender</th>\n",
       "      <th>income_type</th>\n",
       "      <th>debt</th>\n",
       "      <th>total_income</th>\n",
       "      <th>purpose</th>\n",
       "    </tr>\n",
       "  </thead>\n",
       "  <tbody>\n",
       "    <tr>\n",
       "      <th>0</th>\n",
       "      <td>1</td>\n",
       "      <td>-8437.673028</td>\n",
       "      <td>42</td>\n",
       "      <td>высшее</td>\n",
       "      <td>0</td>\n",
       "      <td>женат / замужем</td>\n",
       "      <td>0</td>\n",
       "      <td>F</td>\n",
       "      <td>сотрудник</td>\n",
       "      <td>0</td>\n",
       "      <td>253875.639453</td>\n",
       "      <td>покупка жилья</td>\n",
       "    </tr>\n",
       "    <tr>\n",
       "      <th>1</th>\n",
       "      <td>1</td>\n",
       "      <td>-4024.803754</td>\n",
       "      <td>36</td>\n",
       "      <td>среднее</td>\n",
       "      <td>1</td>\n",
       "      <td>женат / замужем</td>\n",
       "      <td>0</td>\n",
       "      <td>F</td>\n",
       "      <td>сотрудник</td>\n",
       "      <td>0</td>\n",
       "      <td>112080.014102</td>\n",
       "      <td>приобретение автомобиля</td>\n",
       "    </tr>\n",
       "    <tr>\n",
       "      <th>2</th>\n",
       "      <td>0</td>\n",
       "      <td>-5623.422610</td>\n",
       "      <td>33</td>\n",
       "      <td>Среднее</td>\n",
       "      <td>1</td>\n",
       "      <td>женат / замужем</td>\n",
       "      <td>0</td>\n",
       "      <td>M</td>\n",
       "      <td>сотрудник</td>\n",
       "      <td>0</td>\n",
       "      <td>145885.952297</td>\n",
       "      <td>покупка жилья</td>\n",
       "    </tr>\n",
       "    <tr>\n",
       "      <th>3</th>\n",
       "      <td>3</td>\n",
       "      <td>-4124.747207</td>\n",
       "      <td>32</td>\n",
       "      <td>среднее</td>\n",
       "      <td>1</td>\n",
       "      <td>женат / замужем</td>\n",
       "      <td>0</td>\n",
       "      <td>M</td>\n",
       "      <td>сотрудник</td>\n",
       "      <td>0</td>\n",
       "      <td>267628.550329</td>\n",
       "      <td>дополнительное образование</td>\n",
       "    </tr>\n",
       "    <tr>\n",
       "      <th>4</th>\n",
       "      <td>0</td>\n",
       "      <td>340266.072047</td>\n",
       "      <td>53</td>\n",
       "      <td>среднее</td>\n",
       "      <td>1</td>\n",
       "      <td>гражданский брак</td>\n",
       "      <td>1</td>\n",
       "      <td>F</td>\n",
       "      <td>пенсионер</td>\n",
       "      <td>0</td>\n",
       "      <td>158616.077870</td>\n",
       "      <td>сыграть свадьбу</td>\n",
       "    </tr>\n",
       "    <tr>\n",
       "      <th>5</th>\n",
       "      <td>0</td>\n",
       "      <td>-926.185831</td>\n",
       "      <td>27</td>\n",
       "      <td>высшее</td>\n",
       "      <td>0</td>\n",
       "      <td>гражданский брак</td>\n",
       "      <td>1</td>\n",
       "      <td>M</td>\n",
       "      <td>компаньон</td>\n",
       "      <td>0</td>\n",
       "      <td>255763.565419</td>\n",
       "      <td>покупка жилья</td>\n",
       "    </tr>\n",
       "    <tr>\n",
       "      <th>6</th>\n",
       "      <td>0</td>\n",
       "      <td>-2879.202052</td>\n",
       "      <td>43</td>\n",
       "      <td>высшее</td>\n",
       "      <td>0</td>\n",
       "      <td>женат / замужем</td>\n",
       "      <td>0</td>\n",
       "      <td>F</td>\n",
       "      <td>компаньон</td>\n",
       "      <td>0</td>\n",
       "      <td>240525.971920</td>\n",
       "      <td>операции с жильем</td>\n",
       "    </tr>\n",
       "    <tr>\n",
       "      <th>7</th>\n",
       "      <td>0</td>\n",
       "      <td>-152.779569</td>\n",
       "      <td>50</td>\n",
       "      <td>СРЕДНЕЕ</td>\n",
       "      <td>1</td>\n",
       "      <td>женат / замужем</td>\n",
       "      <td>0</td>\n",
       "      <td>M</td>\n",
       "      <td>сотрудник</td>\n",
       "      <td>0</td>\n",
       "      <td>135823.934197</td>\n",
       "      <td>образование</td>\n",
       "    </tr>\n",
       "    <tr>\n",
       "      <th>8</th>\n",
       "      <td>2</td>\n",
       "      <td>-6929.865299</td>\n",
       "      <td>35</td>\n",
       "      <td>ВЫСШЕЕ</td>\n",
       "      <td>0</td>\n",
       "      <td>гражданский брак</td>\n",
       "      <td>1</td>\n",
       "      <td>F</td>\n",
       "      <td>сотрудник</td>\n",
       "      <td>0</td>\n",
       "      <td>95856.832424</td>\n",
       "      <td>на проведение свадьбы</td>\n",
       "    </tr>\n",
       "    <tr>\n",
       "      <th>9</th>\n",
       "      <td>0</td>\n",
       "      <td>-2188.756445</td>\n",
       "      <td>41</td>\n",
       "      <td>среднее</td>\n",
       "      <td>1</td>\n",
       "      <td>женат / замужем</td>\n",
       "      <td>0</td>\n",
       "      <td>M</td>\n",
       "      <td>сотрудник</td>\n",
       "      <td>0</td>\n",
       "      <td>144425.938277</td>\n",
       "      <td>покупка жилья для семьи</td>\n",
       "    </tr>\n",
       "    <tr>\n",
       "      <th>10</th>\n",
       "      <td>2</td>\n",
       "      <td>-4171.483647</td>\n",
       "      <td>36</td>\n",
       "      <td>высшее</td>\n",
       "      <td>0</td>\n",
       "      <td>женат / замужем</td>\n",
       "      <td>0</td>\n",
       "      <td>M</td>\n",
       "      <td>компаньон</td>\n",
       "      <td>0</td>\n",
       "      <td>113943.491460</td>\n",
       "      <td>покупка недвижимости</td>\n",
       "    </tr>\n",
       "    <tr>\n",
       "      <th>11</th>\n",
       "      <td>0</td>\n",
       "      <td>-792.701887</td>\n",
       "      <td>40</td>\n",
       "      <td>среднее</td>\n",
       "      <td>1</td>\n",
       "      <td>женат / замужем</td>\n",
       "      <td>0</td>\n",
       "      <td>F</td>\n",
       "      <td>сотрудник</td>\n",
       "      <td>0</td>\n",
       "      <td>77069.234271</td>\n",
       "      <td>покупка коммерческой недвижимости</td>\n",
       "    </tr>\n",
       "    <tr>\n",
       "      <th>12</th>\n",
       "      <td>0</td>\n",
       "      <td>NaN</td>\n",
       "      <td>65</td>\n",
       "      <td>среднее</td>\n",
       "      <td>1</td>\n",
       "      <td>гражданский брак</td>\n",
       "      <td>1</td>\n",
       "      <td>M</td>\n",
       "      <td>пенсионер</td>\n",
       "      <td>0</td>\n",
       "      <td>NaN</td>\n",
       "      <td>сыграть свадьбу</td>\n",
       "    </tr>\n",
       "    <tr>\n",
       "      <th>13</th>\n",
       "      <td>0</td>\n",
       "      <td>-1846.641941</td>\n",
       "      <td>54</td>\n",
       "      <td>неоконченное высшее</td>\n",
       "      <td>2</td>\n",
       "      <td>женат / замужем</td>\n",
       "      <td>0</td>\n",
       "      <td>F</td>\n",
       "      <td>сотрудник</td>\n",
       "      <td>0</td>\n",
       "      <td>130458.228857</td>\n",
       "      <td>приобретение автомобиля</td>\n",
       "    </tr>\n",
       "    <tr>\n",
       "      <th>14</th>\n",
       "      <td>0</td>\n",
       "      <td>-1844.956182</td>\n",
       "      <td>56</td>\n",
       "      <td>высшее</td>\n",
       "      <td>0</td>\n",
       "      <td>гражданский брак</td>\n",
       "      <td>1</td>\n",
       "      <td>F</td>\n",
       "      <td>компаньон</td>\n",
       "      <td>1</td>\n",
       "      <td>165127.911772</td>\n",
       "      <td>покупка жилой недвижимости</td>\n",
       "    </tr>\n",
       "    <tr>\n",
       "      <th>15</th>\n",
       "      <td>1</td>\n",
       "      <td>-972.364419</td>\n",
       "      <td>26</td>\n",
       "      <td>среднее</td>\n",
       "      <td>1</td>\n",
       "      <td>женат / замужем</td>\n",
       "      <td>0</td>\n",
       "      <td>F</td>\n",
       "      <td>сотрудник</td>\n",
       "      <td>0</td>\n",
       "      <td>116820.904450</td>\n",
       "      <td>строительство собственной недвижимости</td>\n",
       "    </tr>\n",
       "    <tr>\n",
       "      <th>16</th>\n",
       "      <td>0</td>\n",
       "      <td>-1719.934226</td>\n",
       "      <td>35</td>\n",
       "      <td>среднее</td>\n",
       "      <td>1</td>\n",
       "      <td>женат / замужем</td>\n",
       "      <td>0</td>\n",
       "      <td>F</td>\n",
       "      <td>сотрудник</td>\n",
       "      <td>0</td>\n",
       "      <td>289202.704229</td>\n",
       "      <td>недвижимость</td>\n",
       "    </tr>\n",
       "    <tr>\n",
       "      <th>17</th>\n",
       "      <td>0</td>\n",
       "      <td>-2369.999720</td>\n",
       "      <td>33</td>\n",
       "      <td>высшее</td>\n",
       "      <td>0</td>\n",
       "      <td>гражданский брак</td>\n",
       "      <td>1</td>\n",
       "      <td>M</td>\n",
       "      <td>сотрудник</td>\n",
       "      <td>0</td>\n",
       "      <td>90410.586745</td>\n",
       "      <td>строительство недвижимости</td>\n",
       "    </tr>\n",
       "    <tr>\n",
       "      <th>18</th>\n",
       "      <td>0</td>\n",
       "      <td>400281.136913</td>\n",
       "      <td>53</td>\n",
       "      <td>среднее</td>\n",
       "      <td>1</td>\n",
       "      <td>вдовец / вдова</td>\n",
       "      <td>2</td>\n",
       "      <td>F</td>\n",
       "      <td>пенсионер</td>\n",
       "      <td>0</td>\n",
       "      <td>56823.777243</td>\n",
       "      <td>на покупку подержанного автомобиля</td>\n",
       "    </tr>\n",
       "    <tr>\n",
       "      <th>19</th>\n",
       "      <td>0</td>\n",
       "      <td>-10038.818549</td>\n",
       "      <td>48</td>\n",
       "      <td>СРЕДНЕЕ</td>\n",
       "      <td>1</td>\n",
       "      <td>в разводе</td>\n",
       "      <td>3</td>\n",
       "      <td>F</td>\n",
       "      <td>сотрудник</td>\n",
       "      <td>0</td>\n",
       "      <td>242831.107982</td>\n",
       "      <td>на покупку своего автомобиля</td>\n",
       "    </tr>\n",
       "  </tbody>\n",
       "</table>\n",
       "</div>"
      ],
      "text/plain": [
       "    children  days_employed  dob_years            education  education_id  \\\n",
       "0          1   -8437.673028         42               высшее             0   \n",
       "1          1   -4024.803754         36              среднее             1   \n",
       "2          0   -5623.422610         33              Среднее             1   \n",
       "3          3   -4124.747207         32              среднее             1   \n",
       "4          0  340266.072047         53              среднее             1   \n",
       "5          0    -926.185831         27               высшее             0   \n",
       "6          0   -2879.202052         43               высшее             0   \n",
       "7          0    -152.779569         50              СРЕДНЕЕ             1   \n",
       "8          2   -6929.865299         35               ВЫСШЕЕ             0   \n",
       "9          0   -2188.756445         41              среднее             1   \n",
       "10         2   -4171.483647         36               высшее             0   \n",
       "11         0    -792.701887         40              среднее             1   \n",
       "12         0            NaN         65              среднее             1   \n",
       "13         0   -1846.641941         54  неоконченное высшее             2   \n",
       "14         0   -1844.956182         56               высшее             0   \n",
       "15         1    -972.364419         26              среднее             1   \n",
       "16         0   -1719.934226         35              среднее             1   \n",
       "17         0   -2369.999720         33               высшее             0   \n",
       "18         0  400281.136913         53              среднее             1   \n",
       "19         0  -10038.818549         48              СРЕДНЕЕ             1   \n",
       "\n",
       "       family_status  family_status_id gender income_type  debt  \\\n",
       "0    женат / замужем                 0      F   сотрудник     0   \n",
       "1    женат / замужем                 0      F   сотрудник     0   \n",
       "2    женат / замужем                 0      M   сотрудник     0   \n",
       "3    женат / замужем                 0      M   сотрудник     0   \n",
       "4   гражданский брак                 1      F   пенсионер     0   \n",
       "5   гражданский брак                 1      M   компаньон     0   \n",
       "6    женат / замужем                 0      F   компаньон     0   \n",
       "7    женат / замужем                 0      M   сотрудник     0   \n",
       "8   гражданский брак                 1      F   сотрудник     0   \n",
       "9    женат / замужем                 0      M   сотрудник     0   \n",
       "10   женат / замужем                 0      M   компаньон     0   \n",
       "11   женат / замужем                 0      F   сотрудник     0   \n",
       "12  гражданский брак                 1      M   пенсионер     0   \n",
       "13   женат / замужем                 0      F   сотрудник     0   \n",
       "14  гражданский брак                 1      F   компаньон     1   \n",
       "15   женат / замужем                 0      F   сотрудник     0   \n",
       "16   женат / замужем                 0      F   сотрудник     0   \n",
       "17  гражданский брак                 1      M   сотрудник     0   \n",
       "18    вдовец / вдова                 2      F   пенсионер     0   \n",
       "19         в разводе                 3      F   сотрудник     0   \n",
       "\n",
       "     total_income                                 purpose  \n",
       "0   253875.639453                           покупка жилья  \n",
       "1   112080.014102                 приобретение автомобиля  \n",
       "2   145885.952297                           покупка жилья  \n",
       "3   267628.550329              дополнительное образование  \n",
       "4   158616.077870                         сыграть свадьбу  \n",
       "5   255763.565419                           покупка жилья  \n",
       "6   240525.971920                       операции с жильем  \n",
       "7   135823.934197                             образование  \n",
       "8    95856.832424                   на проведение свадьбы  \n",
       "9   144425.938277                 покупка жилья для семьи  \n",
       "10  113943.491460                    покупка недвижимости  \n",
       "11   77069.234271       покупка коммерческой недвижимости  \n",
       "12            NaN                         сыграть свадьбу  \n",
       "13  130458.228857                 приобретение автомобиля  \n",
       "14  165127.911772              покупка жилой недвижимости  \n",
       "15  116820.904450  строительство собственной недвижимости  \n",
       "16  289202.704229                            недвижимость  \n",
       "17   90410.586745              строительство недвижимости  \n",
       "18   56823.777243      на покупку подержанного автомобиля  \n",
       "19  242831.107982            на покупку своего автомобиля  "
      ]
     },
     "execution_count": 85,
     "metadata": {},
     "output_type": "execute_result"
    }
   ],
   "source": [
    "# ваш код здесь\n",
    "data.head(20)"
   ]
  },
  {
   "cell_type": "markdown",
   "id": "c8f382ae",
   "metadata": {
    "deletable": false,
    "editable": false,
    "id": "c8f382ae",
    "tags": [
     "start_task"
    ]
   },
   "source": [
    "**Задание 3. Выведите основную информацию о датафрейме с помощью метода `info()`.**"
   ]
  },
  {
   "cell_type": "code",
   "execution_count": 86,
   "id": "e1ed9908",
   "metadata": {
    "id": "e1ed9908"
   },
   "outputs": [
    {
     "name": "stdout",
     "output_type": "stream",
     "text": [
      "<class 'pandas.core.frame.DataFrame'>\n",
      "RangeIndex: 21525 entries, 0 to 21524\n",
      "Data columns (total 12 columns):\n",
      " #   Column            Non-Null Count  Dtype  \n",
      "---  ------            --------------  -----  \n",
      " 0   children          21525 non-null  int64  \n",
      " 1   days_employed     19351 non-null  float64\n",
      " 2   dob_years         21525 non-null  int64  \n",
      " 3   education         21525 non-null  object \n",
      " 4   education_id      21525 non-null  int64  \n",
      " 5   family_status     21525 non-null  object \n",
      " 6   family_status_id  21525 non-null  int64  \n",
      " 7   gender            21525 non-null  object \n",
      " 8   income_type       21525 non-null  object \n",
      " 9   debt              21525 non-null  int64  \n",
      " 10  total_income      19351 non-null  float64\n",
      " 11  purpose           21525 non-null  object \n",
      "dtypes: float64(2), int64(5), object(5)\n",
      "memory usage: 2.0+ MB\n"
     ]
    }
   ],
   "source": [
    "# ваш код здесь\n",
    "data.info()"
   ]
  },
  {
   "cell_type": "markdown",
   "id": "f969a1cd",
   "metadata": {
    "deletable": false,
    "editable": false,
    "id": "f969a1cd"
   },
   "source": [
    "## Предобработка данных"
   ]
  },
  {
   "cell_type": "markdown",
   "id": "7283e864",
   "metadata": {
    "deletable": false,
    "editable": false,
    "id": "7283e864"
   },
   "source": [
    "### Удаление пропусков"
   ]
  },
  {
   "cell_type": "markdown",
   "id": "c9a0745e",
   "metadata": {
    "deletable": false,
    "editable": false,
    "id": "c9a0745e",
    "tags": [
     "start_task"
    ]
   },
   "source": [
    "**Задание 4. Выведите количество пропущенных значений для каждого столбца. Используйте комбинацию двух методов.**"
   ]
  },
  {
   "cell_type": "code",
   "execution_count": 87,
   "id": "b7a096e1",
   "metadata": {
    "id": "b7a096e1"
   },
   "outputs": [
    {
     "data": {
      "text/plain": [
       "children               0\n",
       "days_employed       2174\n",
       "dob_years              0\n",
       "education              0\n",
       "education_id           0\n",
       "family_status          0\n",
       "family_status_id       0\n",
       "gender                 0\n",
       "income_type            0\n",
       "debt                   0\n",
       "total_income        2174\n",
       "purpose                0\n",
       "dtype: int64"
      ]
     },
     "execution_count": 87,
     "metadata": {},
     "output_type": "execute_result"
    }
   ],
   "source": [
    "# ваш код здесь\n",
    "data.isna().sum()"
   ]
  },
  {
   "cell_type": "markdown",
   "id": "c2578616",
   "metadata": {
    "deletable": false,
    "editable": false,
    "id": "c2578616",
    "tags": [
     "start_task"
    ]
   },
   "source": [
    "**Задание 5. В двух столбцах есть пропущенные значения. Один из них — `days_employed`. Пропуски в этом столбце вы обработаете на следующем этапе. Другой столбец с пропущенными значениями — `total_income` — хранит данные о доходах. На сумму дохода сильнее всего влияет тип занятости, поэтому заполнить пропуски в этом столбце нужно медианным значением по каждому типу из столбца `income_type`. Например, у человека с типом занятости `сотрудник` пропуск в столбце `total_income` должен быть заполнен медианным доходом среди всех записей с тем же типом.**"
   ]
  },
  {
   "cell_type": "code",
   "execution_count": 88,
   "id": "e8afc4bc",
   "metadata": {
    "id": "e8afc4bc"
   },
   "outputs": [
    {
     "data": {
      "text/plain": [
       "children               0\n",
       "days_employed       2174\n",
       "dob_years              0\n",
       "education              0\n",
       "education_id           0\n",
       "family_status          0\n",
       "family_status_id       0\n",
       "gender                 0\n",
       "income_type            0\n",
       "debt                   0\n",
       "total_income           0\n",
       "purpose                0\n",
       "dtype: int64"
      ]
     },
     "execution_count": 88,
     "metadata": {},
     "output_type": "execute_result"
    }
   ],
   "source": [
    "# ваш код здесь\n",
    "for i in data['income_type'].unique():\n",
    "    data.loc[(data['income_type'] == i) & (data['total_income'].isna()), 'total_income'] = \\\n",
    "    data.loc[data['income_type'] == i, 'total_income'].median()\n",
    "\n",
    "data.isna().sum()"
   ]
  },
  {
   "cell_type": "markdown",
   "id": "ae986d46",
   "metadata": {
    "deletable": false,
    "editable": false,
    "id": "ae986d46"
   },
   "source": [
    "### Обработка аномальных значений"
   ]
  },
  {
   "cell_type": "markdown",
   "id": "b049cbae",
   "metadata": {
    "deletable": false,
    "editable": false,
    "id": "b049cbae",
    "tags": [
     "start_task"
    ]
   },
   "source": [
    "**Задание 6. В данных могут встречаться артефакты (аномалии) — значения, которые не отражают действительность и появились по какой-то ошибке. Таким артефактом будет отрицательное количество дней трудового стажа в столбце `days_employed`. Для реальных данных это нормально. Обработайте значения в этом столбце: замените все отрицательные значения положительными с помощью метода `abs()`.**"
   ]
  },
  {
   "cell_type": "code",
   "execution_count": 89,
   "id": "187779b0",
   "metadata": {
    "id": "187779b0"
   },
   "outputs": [],
   "source": [
    "data['days_employed'] = abs(data['days_employed'])"
   ]
  },
  {
   "cell_type": "markdown",
   "id": "a13054c2",
   "metadata": {
    "deletable": false,
    "editable": false,
    "id": "a13054c2",
    "tags": [
     "start_task"
    ]
   },
   "source": [
    "**Задание 7. Для каждого типа занятости выведите медианное значение трудового стажа `days_employed` в днях.**"
   ]
  },
  {
   "cell_type": "code",
   "execution_count": 90,
   "id": "f3f5810c",
   "metadata": {
    "id": "f3f5810c"
   },
   "outputs": [
    {
     "data": {
      "text/plain": [
       "income_type\n",
       "безработный        366413.652744\n",
       "в декрете            3296.759962\n",
       "госслужащий          2689.368353\n",
       "компаньон            1547.382223\n",
       "пенсионер          365213.306266\n",
       "предприниматель       520.848083\n",
       "сотрудник            1574.202821\n",
       "студент               578.751554\n",
       "Name: days_employed, dtype: float64"
      ]
     },
     "execution_count": 90,
     "metadata": {},
     "output_type": "execute_result"
    }
   ],
   "source": [
    "# ваш код здесь\n",
    "data.groupby('income_type')['days_employed'].median()\n",
    "    "
   ]
  },
  {
   "cell_type": "markdown",
   "id": "dbc3168c",
   "metadata": {
    "deletable": false,
    "editable": false,
    "id": "dbc3168c"
   },
   "source": [
    "У двух типов (безработные и пенсионеры) получатся аномально большие значения. Исправить такие значения сложно, поэтому оставьте их как есть."
   ]
  },
  {
   "cell_type": "markdown",
   "id": "ff4378c2",
   "metadata": {
    "deletable": false,
    "editable": false,
    "id": "ff4378c2",
    "tags": [
     "start_task"
    ]
   },
   "source": [
    "**Задание 8. Выведите перечень уникальных значений столбца `children`.**"
   ]
  },
  {
   "cell_type": "code",
   "execution_count": 91,
   "id": "9bd0c232",
   "metadata": {
    "id": "9bd0c232"
   },
   "outputs": [
    {
     "data": {
      "text/plain": [
       "array([ 1,  0,  3,  2, -1,  4, 20,  5])"
      ]
     },
     "execution_count": 91,
     "metadata": {},
     "output_type": "execute_result"
    }
   ],
   "source": [
    "# ваш код здесь\n",
    "data['children'].unique()"
   ]
  },
  {
   "cell_type": "markdown",
   "id": "8e911990",
   "metadata": {
    "deletable": false,
    "editable": false,
    "id": "8e911990",
    "tags": [
     "start_task"
    ]
   },
   "source": [
    "**Задание 9. В столбце `children` есть два аномальных значения. Удалите строки, в которых встречаются такие аномальные значения из датафрейма `data`.**"
   ]
  },
  {
   "cell_type": "code",
   "execution_count": 92,
   "id": "6d5ba289",
   "metadata": {
    "id": "6d5ba289"
   },
   "outputs": [],
   "source": [
    "# ваш код здесь\n",
    "data = data.loc[(data['children'] != -1) & (data['children'] != 20)]"
   ]
  },
  {
   "cell_type": "markdown",
   "id": "18d77455",
   "metadata": {
    "deletable": false,
    "editable": false,
    "id": "18d77455",
    "tags": [
     "start_task"
    ]
   },
   "source": [
    "**Задание 10. Ещё раз выведите перечень уникальных значений столбца `children`, чтобы убедиться, что артефакты удалены.**"
   ]
  },
  {
   "cell_type": "code",
   "execution_count": 93,
   "id": "2c5fa92c",
   "metadata": {
    "id": "2c5fa92c"
   },
   "outputs": [
    {
     "data": {
      "text/plain": [
       "array([1, 0, 3, 2, 4, 5])"
      ]
     },
     "execution_count": 93,
     "metadata": {},
     "output_type": "execute_result"
    }
   ],
   "source": [
    "# ваш код здесь\n",
    "data['children'].unique()"
   ]
  },
  {
   "cell_type": "markdown",
   "id": "0ec07dee",
   "metadata": {
    "deletable": false,
    "editable": false,
    "id": "0ec07dee"
   },
   "source": [
    "### Удаление пропусков (продолжение)"
   ]
  },
  {
   "cell_type": "markdown",
   "id": "0fc3ae3f",
   "metadata": {
    "deletable": false,
    "editable": false,
    "id": "0fc3ae3f",
    "tags": [
     "start_task"
    ]
   },
   "source": [
    "**Задание 11. Заполните пропуски в столбце `days_employed` медианными значениями по каждому типу занятости `income_type`.**"
   ]
  },
  {
   "cell_type": "code",
   "execution_count": 96,
   "id": "e2aea7ac",
   "metadata": {
    "id": "e2aea7ac"
   },
   "outputs": [],
   "source": [
    "# ваш код здесь\n",
    "for day_employed in data['income_type'].unique():\n",
    "    data.loc[(data['days_employed'].isna()) & (data['income_type'] == day_employed)] = \\\n",
    "    data.loc[data['income_type'] == day_employed, 'days_employed'].median()"
   ]
  },
  {
   "cell_type": "markdown",
   "id": "97b0b795",
   "metadata": {
    "deletable": false,
    "editable": false,
    "id": "97b0b795",
    "tags": [
     "start_task"
    ]
   },
   "source": [
    "**Задание 12. Убедитесь, что все пропуски заполнены. Проверьте себя и ещё раз выведите количество пропущенных значений для каждого столбца с помощью двух методов.**"
   ]
  },
  {
   "cell_type": "code",
   "execution_count": 97,
   "id": "79632a21",
   "metadata": {
    "id": "79632a21"
   },
   "outputs": [
    {
     "data": {
      "text/plain": [
       "children            0\n",
       "days_employed       0\n",
       "dob_years           0\n",
       "education           0\n",
       "education_id        0\n",
       "family_status       0\n",
       "family_status_id    0\n",
       "gender              0\n",
       "income_type         0\n",
       "debt                0\n",
       "total_income        0\n",
       "purpose             0\n",
       "dtype: int64"
      ]
     },
     "execution_count": 97,
     "metadata": {},
     "output_type": "execute_result"
    }
   ],
   "source": [
    "# ваш код здесь\n",
    "data.isna().sum()"
   ]
  },
  {
   "cell_type": "markdown",
   "id": "bd4aeb20",
   "metadata": {
    "deletable": false,
    "editable": false,
    "id": "bd4aeb20"
   },
   "source": [
    "### Изменение типов данных"
   ]
  },
  {
   "cell_type": "markdown",
   "id": "963bfa58",
   "metadata": {
    "deletable": false,
    "editable": false,
    "id": "963bfa58",
    "tags": [
     "start_task"
    ]
   },
   "source": [
    "**Задание 13. Замените вещественный тип данных в столбце `total_income` на целочисленный с помощью метода `astype()`.**"
   ]
  },
  {
   "cell_type": "code",
   "execution_count": 98,
   "id": "73da6ea0",
   "metadata": {
    "id": "73da6ea0"
   },
   "outputs": [
    {
     "name": "stdout",
     "output_type": "stream",
     "text": [
      "<class 'pandas.core.frame.DataFrame'>\n",
      "Int64Index: 21402 entries, 0 to 21524\n",
      "Data columns (total 12 columns):\n",
      " #   Column            Non-Null Count  Dtype  \n",
      "---  ------            --------------  -----  \n",
      " 0   children          21402 non-null  float64\n",
      " 1   days_employed     21402 non-null  float64\n",
      " 2   dob_years         21402 non-null  float64\n",
      " 3   education         21402 non-null  object \n",
      " 4   education_id      21402 non-null  float64\n",
      " 5   family_status     21402 non-null  object \n",
      " 6   family_status_id  21402 non-null  float64\n",
      " 7   gender            21402 non-null  object \n",
      " 8   income_type       21402 non-null  object \n",
      " 9   debt              21402 non-null  float64\n",
      " 10  total_income      21402 non-null  int64  \n",
      " 11  purpose           21402 non-null  object \n",
      "dtypes: float64(6), int64(1), object(5)\n",
      "memory usage: 2.1+ MB\n"
     ]
    }
   ],
   "source": [
    "# ваш код здесь\n",
    "data['total_income'] = data['total_income'].astype('int')\n",
    "data.info()"
   ]
  },
  {
   "cell_type": "markdown",
   "id": "d290239e",
   "metadata": {
    "deletable": false,
    "editable": false,
    "id": "d290239e"
   },
   "source": [
    "### Обработка дубликатов"
   ]
  },
  {
   "cell_type": "markdown",
   "id": "1b5844fd",
   "metadata": {
    "deletable": false,
    "editable": false,
    "id": "1b5844fd",
    "tags": [
     "start_task"
    ]
   },
   "source": [
    "**Задание 14. Обработайте неявные дубликаты в столбце `education`. В этом столбце есть одни и те же значения, но записанные по-разному: с использованием заглавных и строчных букв. Приведите их к нижнему регистру.**"
   ]
  },
  {
   "cell_type": "code",
   "execution_count": 99,
   "id": "3f2504b3",
   "metadata": {
    "id": "3f2504b3"
   },
   "outputs": [],
   "source": [
    "# ваш код здесь\n",
    "data['education'] = data['education'].str.lower()"
   ]
  },
  {
   "cell_type": "markdown",
   "id": "4c22acbc",
   "metadata": {
    "deletable": false,
    "editable": false,
    "id": "4c22acbc",
    "tags": [
     "start_task"
    ]
   },
   "source": [
    "**Задание 15. Выведите на экран количество строк-дубликатов в данных. Если такие строки присутствуют, удалите их.**"
   ]
  },
  {
   "cell_type": "code",
   "execution_count": 100,
   "id": "d34a4325",
   "metadata": {
    "id": "d34a4325"
   },
   "outputs": [
    {
     "data": {
      "text/plain": [
       "2157"
      ]
     },
     "execution_count": 100,
     "metadata": {},
     "output_type": "execute_result"
    }
   ],
   "source": [
    "# посчитайте дубликаты\n",
    "data.duplicated().sum()"
   ]
  },
  {
   "cell_type": "code",
   "execution_count": 101,
   "id": "6e1a6499",
   "metadata": {
    "id": "6e1a6499"
   },
   "outputs": [
    {
     "data": {
      "text/plain": [
       "0"
      ]
     },
     "execution_count": 101,
     "metadata": {},
     "output_type": "execute_result"
    }
   ],
   "source": [
    "# удалите дубликаты\n",
    "data = data.drop_duplicates()\n",
    "data.duplicated().sum()"
   ]
  },
  {
   "cell_type": "markdown",
   "id": "e5686ccc",
   "metadata": {
    "deletable": false,
    "editable": false,
    "id": "e5686ccc"
   },
   "source": [
    "### Категоризация данных"
   ]
  },
  {
   "cell_type": "markdown",
   "id": "636e9acd",
   "metadata": {
    "deletable": false,
    "editable": false,
    "id": "636e9acd",
    "tags": [
     "start_task"
    ]
   },
   "source": [
    "**Задание 16. На основании диапазонов, указанных ниже, создайте в датафрейме `data` столбец `total_income_category` с категориями:**\n",
    "\n",
    "- 0–30000 — `'E'`;\n",
    "- 30001–50000 — `'D'`;\n",
    "- 50001–200000 — `'C'`;\n",
    "- 200001–1000000 — `'B'`;\n",
    "- 1000001 и выше — `'A'`.\n",
    "\n",
    "\n",
    "**Например, кредитополучателю с доходом 25000 нужно назначить категорию `'E'`, а клиенту, получающему 235000, — `'B'`. Используйте собственную функцию с именем `categorize_income()` и метод `apply()`.**"
   ]
  },
  {
   "cell_type": "code",
   "execution_count": 110,
   "id": "880a77e5",
   "metadata": {
    "id": "880a77e5"
   },
   "outputs": [],
   "source": [
    "# создайте функцию categorize_income()\n",
    "def categorize_income(row):\n",
    "    income = row['total_income']\n",
    "    if income <= 30000:\n",
    "        return 'E'\n",
    "    if income <= 50000:\n",
    "        return 'D'\n",
    "    if income <= 200000:\n",
    "        return 'C'\n",
    "    if income <= 1000000:\n",
    "        return 'B'\n",
    "    return 'A'"
   ]
  },
  {
   "cell_type": "code",
   "execution_count": 112,
   "id": "6f25f161",
   "metadata": {
    "id": "6f25f161"
   },
   "outputs": [
    {
     "name": "stdout",
     "output_type": "stream",
     "text": [
      "<class 'pandas.core.frame.DataFrame'>\n",
      "Int64Index: 19245 entries, 0 to 21524\n",
      "Data columns (total 13 columns):\n",
      " #   Column                 Non-Null Count  Dtype  \n",
      "---  ------                 --------------  -----  \n",
      " 0   children               19245 non-null  float64\n",
      " 1   days_employed          19245 non-null  float64\n",
      " 2   dob_years              19245 non-null  float64\n",
      " 3   education              19240 non-null  object \n",
      " 4   education_id           19245 non-null  float64\n",
      " 5   family_status          19245 non-null  object \n",
      " 6   family_status_id       19245 non-null  float64\n",
      " 7   gender                 19245 non-null  object \n",
      " 8   income_type            19245 non-null  object \n",
      " 9   debt                   19245 non-null  float64\n",
      " 10  total_income           19245 non-null  int64  \n",
      " 11  purpose                19245 non-null  object \n",
      " 12  total_income_category  19245 non-null  object \n",
      "dtypes: float64(6), int64(1), object(6)\n",
      "memory usage: 2.1+ MB\n"
     ]
    }
   ],
   "source": [
    "# примените функцию методом apply()\n",
    "data['total_income_category'] = data.apply(categorize_income, axis = 1)\n",
    "data.info()"
   ]
  },
  {
   "cell_type": "markdown",
   "id": "3363b685",
   "metadata": {
    "deletable": false,
    "editable": false,
    "id": "3363b685",
    "tags": [
     "start_task"
    ]
   },
   "source": [
    "**Задание 17. Выведите на экран перечень уникальных целей взятия кредита из столбца `purpose`.**"
   ]
  },
  {
   "cell_type": "code",
   "execution_count": 113,
   "id": "e59f2c15",
   "metadata": {
    "id": "e59f2c15"
   },
   "outputs": [
    {
     "data": {
      "text/plain": [
       "array(['покупка жилья', 'приобретение автомобиля',\n",
       "       'дополнительное образование', 'сыграть свадьбу',\n",
       "       'операции с жильем', 'образование', 'на проведение свадьбы',\n",
       "       'покупка жилья для семьи', 'покупка недвижимости',\n",
       "       'покупка коммерческой недвижимости', 365286.6226495429,\n",
       "       'покупка жилой недвижимости',\n",
       "       'строительство собственной недвижимости', 'недвижимость',\n",
       "       'строительство недвижимости', 'на покупку подержанного автомобиля',\n",
       "       'на покупку своего автомобиля',\n",
       "       'операции с коммерческой недвижимостью', 2689.1372742032745,\n",
       "       'жилье', 'операции со своей недвижимостью', 'автомобили',\n",
       "       'заняться образованием', 'получение образования',\n",
       "       'сделка с подержанным автомобилем', 'автомобиль', 'свадьба',\n",
       "       'получение дополнительного образования', 'покупка своего жилья',\n",
       "       'операции с недвижимостью', 'получение высшего образования',\n",
       "       1555.947386945053, 'свой автомобиль', 'сделка с автомобилем',\n",
       "       'профильное образование', 1572.328284580025, 'высшее образование',\n",
       "       'покупка жилья для сдачи', 'на покупку автомобиля',\n",
       "       'строительство жилой недвижимости', 'ремонт жилью',\n",
       "       'заняться высшим образованием', 520.8480834953765], dtype=object)"
      ]
     },
     "execution_count": 113,
     "metadata": {},
     "output_type": "execute_result"
    }
   ],
   "source": [
    "# ваш код здесь\n",
    "data['purpose'].unique()"
   ]
  },
  {
   "cell_type": "markdown",
   "id": "bb33e847",
   "metadata": {
    "deletable": false,
    "editable": false,
    "id": "bb33e847",
    "tags": [
     "start_task"
    ]
   },
   "source": [
    "**Задание 18. Создайте функцию, которая на основании данных из столбца `purpose` сформирует новый столбец `purpose_category`, в который войдут следующие категории:**\n",
    "\n",
    "- `'операции с автомобилем'`,\n",
    "- `'операции с недвижимостью'`,\n",
    "- `'проведение свадьбы'`,\n",
    "- `'получение образования'`.\n",
    "\n",
    "**Например, если в столбце `purpose` находится подстрока `'на покупку автомобиля'`, то в столбце `purpose_category` должна появиться строка `'операции с автомобилем'`.**\n",
    "\n",
    "**Используйте собственную функцию с именем `categorize_purpose()` и метод `apply()`. Изучите данные в столбце `purpose` и определите, какие подстроки помогут вам правильно определить категорию.**"
   ]
  },
  {
   "cell_type": "code",
   "execution_count": null,
   "id": "63909b83",
   "metadata": {
    "id": "63909b83"
   },
   "outputs": [],
   "source": [
    "# создайте функцию categorize_purpose()\n",
    "def "
   ]
  },
  {
   "cell_type": "code",
   "execution_count": null,
   "id": "7cb4a81d",
   "metadata": {
    "id": "7cb4a81d"
   },
   "outputs": [],
   "source": [
    "# примените функцию методом apply()"
   ]
  }
 ],
 "metadata": {
  "ExecuteTimeLog": [
   {
    "duration": 391,
    "start_time": "2023-01-21T12:08:10.535Z"
   },
   {
    "duration": 295,
    "start_time": "2023-01-21T12:08:41.319Z"
   },
   {
    "duration": 38,
    "start_time": "2023-01-21T12:08:58.855Z"
   },
   {
    "duration": 18,
    "start_time": "2023-01-21T12:09:30.408Z"
   },
   {
    "duration": 12,
    "start_time": "2023-01-21T12:33:37.426Z"
   },
   {
    "duration": 79,
    "start_time": "2023-01-21T12:41:45.306Z"
   },
   {
    "duration": 3,
    "start_time": "2023-01-21T12:41:56.965Z"
   },
   {
    "duration": 3,
    "start_time": "2023-01-21T12:42:00.873Z"
   },
   {
    "duration": 3,
    "start_time": "2023-01-21T12:42:04.330Z"
   },
   {
    "duration": 4,
    "start_time": "2023-01-21T12:42:08.292Z"
   },
   {
    "duration": 5,
    "start_time": "2023-01-21T12:42:18.751Z"
   },
   {
    "duration": 11,
    "start_time": "2023-01-21T12:42:31.385Z"
   },
   {
    "duration": 9,
    "start_time": "2023-01-21T12:45:10.799Z"
   },
   {
    "duration": 8,
    "start_time": "2023-01-21T12:45:31.592Z"
   },
   {
    "duration": 8,
    "start_time": "2023-01-21T12:45:50.494Z"
   },
   {
    "duration": 12,
    "start_time": "2023-01-21T12:46:15.061Z"
   },
   {
    "duration": 7,
    "start_time": "2023-01-21T12:46:36.261Z"
   },
   {
    "duration": 37,
    "start_time": "2023-01-21T13:19:31.605Z"
   },
   {
    "duration": 47,
    "start_time": "2023-01-21T13:22:27.499Z"
   },
   {
    "duration": 58,
    "start_time": "2023-01-21T13:22:36.782Z"
   },
   {
    "duration": 25,
    "start_time": "2023-01-21T13:23:20.588Z"
   },
   {
    "duration": 26,
    "start_time": "2023-01-21T13:23:38.968Z"
   },
   {
    "duration": 23,
    "start_time": "2023-01-21T13:23:54.556Z"
   },
   {
    "duration": 413,
    "start_time": "2023-01-21T19:02:55.465Z"
   },
   {
    "duration": 123,
    "start_time": "2023-01-21T19:02:57.350Z"
   },
   {
    "duration": 22,
    "start_time": "2023-01-21T19:02:59.573Z"
   },
   {
    "duration": 15,
    "start_time": "2023-01-21T19:03:03.555Z"
   },
   {
    "duration": 11,
    "start_time": "2023-01-21T19:03:07.027Z"
   },
   {
    "duration": 70,
    "start_time": "2023-01-21T19:07:33.112Z"
   },
   {
    "duration": 12,
    "start_time": "2023-01-21T19:07:46.452Z"
   },
   {
    "duration": 10,
    "start_time": "2023-01-21T19:09:29.498Z"
   },
   {
    "duration": 85,
    "start_time": "2023-01-21T19:17:17.111Z"
   },
   {
    "duration": 74,
    "start_time": "2023-01-21T19:17:23.588Z"
   },
   {
    "duration": 8,
    "start_time": "2023-01-21T19:17:45.207Z"
   },
   {
    "duration": 11,
    "start_time": "2023-01-21T19:17:48.311Z"
   },
   {
    "duration": 70,
    "start_time": "2023-01-21T19:24:24.698Z"
   },
   {
    "duration": 11,
    "start_time": "2023-01-21T19:31:08.819Z"
   },
   {
    "duration": 1072,
    "start_time": "2023-01-21T19:31:31.804Z"
   },
   {
    "duration": 1371,
    "start_time": "2023-01-21T19:31:36.221Z"
   },
   {
    "duration": 12,
    "start_time": "2023-01-21T19:31:58.866Z"
   },
   {
    "duration": 12,
    "start_time": "2023-01-21T19:32:07.425Z"
   },
   {
    "duration": 11,
    "start_time": "2023-01-21T19:32:22.185Z"
   },
   {
    "duration": 12,
    "start_time": "2023-01-21T19:32:27.281Z"
   },
   {
    "duration": 11,
    "start_time": "2023-01-21T19:32:35.949Z"
   },
   {
    "duration": 16,
    "start_time": "2023-01-21T19:36:07.846Z"
   },
   {
    "duration": 71,
    "start_time": "2023-01-21T19:36:50.129Z"
   },
   {
    "duration": 64,
    "start_time": "2023-01-21T19:37:47.149Z"
   },
   {
    "duration": 15,
    "start_time": "2023-01-21T19:37:54.811Z"
   },
   {
    "duration": 6,
    "start_time": "2023-01-21T19:43:55.946Z"
   },
   {
    "duration": 12,
    "start_time": "2023-01-21T19:44:05.614Z"
   },
   {
    "duration": 12,
    "start_time": "2023-01-21T19:44:12.787Z"
   },
   {
    "duration": 3,
    "start_time": "2023-01-21T19:44:17.753Z"
   },
   {
    "duration": 72,
    "start_time": "2023-01-21T19:44:19.549Z"
   },
   {
    "duration": 22,
    "start_time": "2023-01-21T19:44:22.127Z"
   },
   {
    "duration": 15,
    "start_time": "2023-01-21T19:44:25.535Z"
   },
   {
    "duration": 10,
    "start_time": "2023-01-21T19:44:28.309Z"
   },
   {
    "duration": 14,
    "start_time": "2023-01-21T19:44:32.077Z"
   },
   {
    "duration": 11,
    "start_time": "2023-01-21T19:45:37.776Z"
   },
   {
    "duration": 19,
    "start_time": "2023-01-21T19:46:08.278Z"
   },
   {
    "duration": 8,
    "start_time": "2023-01-21T19:46:44.455Z"
   },
   {
    "duration": 484,
    "start_time": "2023-01-22T07:30:08.358Z"
   },
   {
    "duration": 172,
    "start_time": "2023-01-22T07:30:08.844Z"
   },
   {
    "duration": 24,
    "start_time": "2023-01-22T07:30:09.055Z"
   },
   {
    "duration": 18,
    "start_time": "2023-01-22T07:30:09.541Z"
   },
   {
    "duration": 13,
    "start_time": "2023-01-22T07:30:12.715Z"
   },
   {
    "duration": 6,
    "start_time": "2023-01-22T07:30:13.978Z"
   },
   {
    "duration": 9,
    "start_time": "2023-01-22T07:30:21.633Z"
   },
   {
    "duration": 72,
    "start_time": "2023-01-22T07:34:40.066Z"
   },
   {
    "duration": 12,
    "start_time": "2023-01-22T07:36:22.522Z"
   },
   {
    "duration": 49,
    "start_time": "2023-01-22T07:37:01.468Z"
   },
   {
    "duration": 51,
    "start_time": "2023-01-22T07:37:33.753Z"
   },
   {
    "duration": 51,
    "start_time": "2023-01-22T07:38:26.277Z"
   },
   {
    "duration": 35,
    "start_time": "2023-01-22T07:39:49.760Z"
   },
   {
    "duration": 46,
    "start_time": "2023-01-22T07:39:59.126Z"
   },
   {
    "duration": 16,
    "start_time": "2023-01-22T07:40:19.798Z"
   },
   {
    "duration": 10,
    "start_time": "2023-01-22T07:40:29.022Z"
   },
   {
    "duration": 92,
    "start_time": "2023-01-22T07:41:15.695Z"
   },
   {
    "duration": 8,
    "start_time": "2023-01-22T07:41:26.287Z"
   },
   {
    "duration": 13,
    "start_time": "2023-01-22T07:41:59.365Z"
   },
   {
    "duration": 12,
    "start_time": "2023-01-22T07:42:21.751Z"
   },
   {
    "duration": 12,
    "start_time": "2023-01-22T07:43:31.085Z"
   },
   {
    "duration": 12,
    "start_time": "2023-01-22T07:45:01.511Z"
   },
   {
    "duration": 12,
    "start_time": "2023-01-22T07:45:45.366Z"
   },
   {
    "duration": 11,
    "start_time": "2023-01-22T07:45:54.319Z"
   },
   {
    "duration": 78,
    "start_time": "2023-01-22T07:46:06.952Z"
   },
   {
    "duration": 30,
    "start_time": "2023-01-22T07:46:09.670Z"
   },
   {
    "duration": 17,
    "start_time": "2023-01-22T07:46:12.970Z"
   },
   {
    "duration": 12,
    "start_time": "2023-01-22T07:46:21.169Z"
   },
   {
    "duration": 71,
    "start_time": "2023-01-22T07:46:23.963Z"
   },
   {
    "duration": 44,
    "start_time": "2023-01-22T07:48:10.899Z"
   },
   {
    "duration": 48,
    "start_time": "2023-01-22T07:48:33.804Z"
   },
   {
    "duration": 87,
    "start_time": "2023-01-22T07:50:12.269Z"
   },
   {
    "duration": 36,
    "start_time": "2023-01-22T07:51:09.065Z"
   },
   {
    "duration": 12,
    "start_time": "2023-01-22T07:51:23.342Z"
   },
   {
    "duration": 15,
    "start_time": "2023-01-22T07:51:43.906Z"
   },
   {
    "duration": 12,
    "start_time": "2023-01-22T07:52:08.226Z"
   },
   {
    "duration": 11,
    "start_time": "2023-01-22T07:52:12.572Z"
   },
   {
    "duration": 14,
    "start_time": "2023-01-22T07:52:16.463Z"
   },
   {
    "duration": 11,
    "start_time": "2023-01-22T07:52:20.174Z"
   },
   {
    "duration": 3,
    "start_time": "2023-01-22T07:52:30.873Z"
   },
   {
    "duration": 69,
    "start_time": "2023-01-22T07:52:32.817Z"
   },
   {
    "duration": 16,
    "start_time": "2023-01-22T07:52:35.428Z"
   },
   {
    "duration": 17,
    "start_time": "2023-01-22T07:52:38.257Z"
   },
   {
    "duration": 18,
    "start_time": "2023-01-22T07:52:41.223Z"
   },
   {
    "duration": 56,
    "start_time": "2023-01-22T07:52:43.162Z"
   },
   {
    "duration": 48,
    "start_time": "2023-01-22T07:53:39.975Z"
   },
   {
    "duration": 13,
    "start_time": "2023-01-22T07:54:17.073Z"
   },
   {
    "duration": 37,
    "start_time": "2023-01-22T07:54:22.930Z"
   },
   {
    "duration": 49,
    "start_time": "2023-01-22T07:54:49.228Z"
   },
   {
    "duration": 3,
    "start_time": "2023-01-22T07:59:02.596Z"
   },
   {
    "duration": 75,
    "start_time": "2023-01-22T08:05:08.770Z"
   },
   {
    "duration": 52,
    "start_time": "2023-01-22T08:05:29.984Z"
   },
   {
    "duration": 58,
    "start_time": "2023-01-22T08:05:43.618Z"
   },
   {
    "duration": 54,
    "start_time": "2023-01-22T08:06:18.851Z"
   },
   {
    "duration": 35,
    "start_time": "2023-01-22T08:07:29.582Z"
   },
   {
    "duration": 8,
    "start_time": "2023-01-22T08:10:51.449Z"
   },
   {
    "duration": 4,
    "start_time": "2023-01-22T08:11:02.881Z"
   },
   {
    "duration": 20,
    "start_time": "2023-01-22T08:11:12.330Z"
   },
   {
    "duration": 5,
    "start_time": "2023-01-22T08:11:31.139Z"
   },
   {
    "duration": 14,
    "start_time": "2023-01-22T08:14:09.244Z"
   },
   {
    "duration": 9,
    "start_time": "2023-01-22T08:16:12.423Z"
   },
   {
    "duration": 5,
    "start_time": "2023-01-22T08:17:12.769Z"
   },
   {
    "duration": 11,
    "start_time": "2023-01-22T08:18:00.365Z"
   },
   {
    "duration": 4,
    "start_time": "2023-01-22T08:18:07.728Z"
   },
   {
    "duration": 4,
    "start_time": "2023-01-22T08:40:42.970Z"
   },
   {
    "duration": 1124,
    "start_time": "2023-01-22T08:41:19.359Z"
   },
   {
    "duration": 8,
    "start_time": "2023-01-22T08:41:35.221Z"
   },
   {
    "duration": 5,
    "start_time": "2023-01-22T08:41:57.829Z"
   },
   {
    "duration": 21,
    "start_time": "2023-01-22T08:42:18.016Z"
   },
   {
    "duration": 7,
    "start_time": "2023-01-22T08:42:20.008Z"
   },
   {
    "duration": 3,
    "start_time": "2023-01-22T08:42:25.865Z"
   },
   {
    "duration": 3,
    "start_time": "2023-01-22T08:42:26.267Z"
   },
   {
    "duration": 9,
    "start_time": "2023-01-22T08:42:41.532Z"
   },
   {
    "duration": 6,
    "start_time": "2023-01-22T08:42:43.801Z"
   },
   {
    "duration": 23,
    "start_time": "2023-01-22T08:42:44.296Z"
   },
   {
    "duration": 7,
    "start_time": "2023-01-22T08:42:46.437Z"
   },
   {
    "duration": 2,
    "start_time": "2023-01-22T08:42:51.337Z"
   },
   {
    "duration": 70,
    "start_time": "2023-01-22T08:42:51.540Z"
   },
   {
    "duration": 17,
    "start_time": "2023-01-22T08:42:51.938Z"
   },
   {
    "duration": 16,
    "start_time": "2023-01-22T08:42:52.327Z"
   },
   {
    "duration": 12,
    "start_time": "2023-01-22T08:42:53.424Z"
   },
   {
    "duration": 46,
    "start_time": "2023-01-22T08:42:54.962Z"
   },
   {
    "duration": 4,
    "start_time": "2023-01-22T08:42:57.415Z"
   },
   {
    "duration": 9,
    "start_time": "2023-01-22T08:42:59.035Z"
   },
   {
    "duration": 6,
    "start_time": "2023-01-22T08:43:01.313Z"
   },
   {
    "duration": 13,
    "start_time": "2023-01-22T08:43:02.526Z"
   },
   {
    "duration": 8,
    "start_time": "2023-01-22T08:43:03.922Z"
   },
   {
    "duration": 3,
    "start_time": "2023-01-22T08:43:25.040Z"
   },
   {
    "duration": 69,
    "start_time": "2023-01-22T08:43:25.230Z"
   },
   {
    "duration": 21,
    "start_time": "2023-01-22T08:43:25.612Z"
   },
   {
    "duration": 16,
    "start_time": "2023-01-22T08:43:26.031Z"
   },
   {
    "duration": 16,
    "start_time": "2023-01-22T08:43:27.637Z"
   },
   {
    "duration": 52,
    "start_time": "2023-01-22T08:43:28.764Z"
   },
   {
    "duration": 4,
    "start_time": "2023-01-22T08:43:30.364Z"
   },
   {
    "duration": 11,
    "start_time": "2023-01-22T08:43:31.766Z"
   },
   {
    "duration": 5,
    "start_time": "2023-01-22T08:43:33.769Z"
   },
   {
    "duration": 15,
    "start_time": "2023-01-22T08:43:35.236Z"
   },
   {
    "duration": 7,
    "start_time": "2023-01-22T08:43:36.938Z"
   },
   {
    "duration": 5,
    "start_time": "2023-01-22T08:43:51.672Z"
   },
   {
    "duration": 18,
    "start_time": "2023-01-22T08:44:10.940Z"
   },
   {
    "duration": 5,
    "start_time": "2023-01-22T08:44:13.255Z"
   },
   {
    "duration": 2,
    "start_time": "2023-01-22T08:44:35.297Z"
   },
   {
    "duration": 74,
    "start_time": "2023-01-22T08:44:35.769Z"
   },
   {
    "duration": 16,
    "start_time": "2023-01-22T08:44:36.655Z"
   },
   {
    "duration": 16,
    "start_time": "2023-01-22T08:44:38.993Z"
   },
   {
    "duration": 12,
    "start_time": "2023-01-22T08:44:41.838Z"
   },
   {
    "duration": 51,
    "start_time": "2023-01-22T08:44:43.155Z"
   },
   {
    "duration": 4,
    "start_time": "2023-01-22T08:44:45.293Z"
   },
   {
    "duration": 8,
    "start_time": "2023-01-22T08:44:47.116Z"
   },
   {
    "duration": 6,
    "start_time": "2023-01-22T08:44:49.620Z"
   },
   {
    "duration": 16,
    "start_time": "2023-01-22T08:44:52.187Z"
   },
   {
    "duration": 7,
    "start_time": "2023-01-22T08:44:53.993Z"
   },
   {
    "duration": 29,
    "start_time": "2023-01-22T08:46:18.477Z"
   },
   {
    "duration": 7,
    "start_time": "2023-01-22T08:47:50.803Z"
   },
   {
    "duration": 3,
    "start_time": "2023-01-22T08:47:52.678Z"
   },
   {
    "duration": 3,
    "start_time": "2023-01-22T08:47:53.090Z"
   },
   {
    "duration": 3,
    "start_time": "2023-01-22T08:47:53.738Z"
   },
   {
    "duration": 3,
    "start_time": "2023-01-22T08:47:54.460Z"
   },
   {
    "duration": 3,
    "start_time": "2023-01-22T08:47:54.867Z"
   },
   {
    "duration": 3,
    "start_time": "2023-01-22T08:47:55.067Z"
   },
   {
    "duration": 3,
    "start_time": "2023-01-22T08:55:59.221Z"
   },
   {
    "duration": 77,
    "start_time": "2023-01-22T08:55:59.431Z"
   },
   {
    "duration": 24,
    "start_time": "2023-01-22T08:55:59.841Z"
   },
   {
    "duration": 6,
    "start_time": "2023-01-22T08:56:24.878Z"
   },
   {
    "duration": 23,
    "start_time": "2023-01-22T08:56:28.730Z"
   },
   {
    "duration": 7,
    "start_time": "2023-01-22T08:56:44.224Z"
   },
   {
    "duration": 5,
    "start_time": "2023-01-22T08:56:47.630Z"
   },
   {
    "duration": 6,
    "start_time": "2023-01-22T08:57:00.612Z"
   },
   {
    "duration": 5,
    "start_time": "2023-01-22T08:57:02.701Z"
   },
   {
    "duration": 122,
    "start_time": "2023-01-22T08:57:30.626Z"
   },
   {
    "duration": 4,
    "start_time": "2023-01-22T08:57:43.537Z"
   },
   {
    "duration": 72,
    "start_time": "2023-01-22T08:57:47.175Z"
   },
   {
    "duration": 5,
    "start_time": "2023-01-22T08:57:53.326Z"
   },
   {
    "duration": 4,
    "start_time": "2023-01-22T08:57:57.384Z"
   },
   {
    "duration": 5,
    "start_time": "2023-01-22T08:57:59.572Z"
   },
   {
    "duration": 4,
    "start_time": "2023-01-22T08:58:07.225Z"
   },
   {
    "duration": 3,
    "start_time": "2023-01-22T09:07:52.578Z"
   },
   {
    "duration": 70,
    "start_time": "2023-01-22T09:07:52.845Z"
   },
   {
    "duration": 25,
    "start_time": "2023-01-22T09:07:53.276Z"
   },
   {
    "duration": 17,
    "start_time": "2023-01-22T09:07:53.647Z"
   },
   {
    "duration": 10,
    "start_time": "2023-01-22T09:07:56.317Z"
   },
   {
    "duration": 52,
    "start_time": "2023-01-22T09:07:57.714Z"
   },
   {
    "duration": 5,
    "start_time": "2023-01-22T09:08:00.009Z"
   },
   {
    "duration": 10,
    "start_time": "2023-01-22T09:08:02.727Z"
   },
   {
    "duration": 4,
    "start_time": "2023-01-22T09:08:23.374Z"
   },
   {
    "duration": 7,
    "start_time": "2023-01-22T09:08:25.981Z"
   },
   {
    "duration": 5,
    "start_time": "2023-01-22T09:08:27.784Z"
   },
   {
    "duration": 9,
    "start_time": "2023-01-22T09:10:55.728Z"
   },
   {
    "duration": 10,
    "start_time": "2023-01-22T09:10:58.125Z"
   },
   {
    "duration": 14,
    "start_time": "2023-01-22T09:19:34.929Z"
   },
   {
    "duration": 1390,
    "start_time": "2023-01-22T09:19:51.475Z"
   },
   {
    "duration": 1212,
    "start_time": "2023-01-22T09:20:35.481Z"
   },
   {
    "duration": 148,
    "start_time": "2023-01-22T09:22:43.673Z"
   },
   {
    "duration": 12,
    "start_time": "2023-01-22T09:23:06.793Z"
   },
   {
    "duration": 57,
    "start_time": "2023-01-22T09:23:27.678Z"
   },
   {
    "duration": 565,
    "start_time": "2023-01-22T09:23:41.690Z"
   },
   {
    "duration": 79,
    "start_time": "2023-01-22T09:23:42.257Z"
   },
   {
    "duration": 27,
    "start_time": "2023-01-22T09:23:42.581Z"
   },
   {
    "duration": 18,
    "start_time": "2023-01-22T09:23:43.021Z"
   },
   {
    "duration": 11,
    "start_time": "2023-01-22T09:23:44.179Z"
   },
   {
    "duration": 45,
    "start_time": "2023-01-22T09:23:44.383Z"
   },
   {
    "duration": 4,
    "start_time": "2023-01-22T09:23:45.043Z"
   },
   {
    "duration": 10,
    "start_time": "2023-01-22T09:23:46.077Z"
   },
   {
    "duration": 6,
    "start_time": "2023-01-22T09:23:47.842Z"
   },
   {
    "duration": 7,
    "start_time": "2023-01-22T09:23:48.348Z"
   },
   {
    "duration": 5,
    "start_time": "2023-01-22T09:23:49.476Z"
   },
   {
    "duration": 94,
    "start_time": "2023-01-22T09:23:51.750Z"
   },
   {
    "duration": 18,
    "start_time": "2023-01-22T09:23:53.327Z"
   },
   {
    "duration": 359,
    "start_time": "2023-01-22T09:24:21.585Z"
   },
   {
    "duration": 364,
    "start_time": "2023-01-22T09:24:35.618Z"
   },
   {
    "duration": 377,
    "start_time": "2023-01-22T09:24:52.278Z"
   },
   {
    "duration": 2,
    "start_time": "2023-01-22T09:25:34.842Z"
   },
   {
    "duration": 74,
    "start_time": "2023-01-22T09:25:35.035Z"
   },
   {
    "duration": 17,
    "start_time": "2023-01-22T09:25:35.598Z"
   },
   {
    "duration": 18,
    "start_time": "2023-01-22T09:25:36.006Z"
   },
   {
    "duration": 13,
    "start_time": "2023-01-22T09:25:36.815Z"
   },
   {
    "duration": 45,
    "start_time": "2023-01-22T09:25:37.277Z"
   },
   {
    "duration": 4,
    "start_time": "2023-01-22T09:25:37.889Z"
   },
   {
    "duration": 9,
    "start_time": "2023-01-22T09:25:38.335Z"
   },
   {
    "duration": 5,
    "start_time": "2023-01-22T09:25:38.988Z"
   },
   {
    "duration": 8,
    "start_time": "2023-01-22T09:25:39.937Z"
   },
   {
    "duration": 5,
    "start_time": "2023-01-22T09:25:41.253Z"
   },
   {
    "duration": 92,
    "start_time": "2023-01-22T09:25:43.223Z"
   },
   {
    "duration": 14,
    "start_time": "2023-01-22T09:25:44.879Z"
   },
   {
    "duration": 385,
    "start_time": "2023-01-22T09:34:40.422Z"
   },
   {
    "duration": 361,
    "start_time": "2023-01-22T09:37:09.994Z"
   },
   {
    "duration": 380,
    "start_time": "2023-01-22T09:37:26.186Z"
   },
   {
    "duration": 4,
    "start_time": "2023-01-22T09:44:13.574Z"
   },
   {
    "duration": 12,
    "start_time": "2023-01-22T09:44:35.508Z"
   },
   {
    "duration": 354,
    "start_time": "2023-01-22T09:44:39.052Z"
   },
   {
    "duration": 5,
    "start_time": "2023-01-22T09:45:04.774Z"
   },
   {
    "duration": 2,
    "start_time": "2023-01-22T09:45:10.781Z"
   },
   {
    "duration": 74,
    "start_time": "2023-01-22T09:45:11.839Z"
   },
   {
    "duration": 17,
    "start_time": "2023-01-22T09:45:13.900Z"
   },
   {
    "duration": 17,
    "start_time": "2023-01-22T09:45:18.150Z"
   },
   {
    "duration": 17,
    "start_time": "2023-01-22T09:45:23.374Z"
   },
   {
    "duration": 56,
    "start_time": "2023-01-22T09:45:26.011Z"
   },
   {
    "duration": 3,
    "start_time": "2023-01-22T09:45:28.870Z"
   },
   {
    "duration": 10,
    "start_time": "2023-01-22T09:45:31.295Z"
   },
   {
    "duration": 5,
    "start_time": "2023-01-22T09:45:34.043Z"
   },
   {
    "duration": 7,
    "start_time": "2023-01-22T09:45:35.979Z"
   },
   {
    "duration": 5,
    "start_time": "2023-01-22T09:45:38.488Z"
   },
   {
    "duration": 111,
    "start_time": "2023-01-22T09:45:41.339Z"
   },
   {
    "duration": 12,
    "start_time": "2023-01-22T09:45:57.782Z"
   },
   {
    "duration": 5,
    "start_time": "2023-01-22T09:46:07.599Z"
   },
   {
    "duration": 382,
    "start_time": "2023-01-22T09:46:10.547Z"
   },
   {
    "duration": 8,
    "start_time": "2023-01-22T09:46:15.101Z"
   },
   {
    "duration": 6,
    "start_time": "2023-01-22T09:46:17.255Z"
   },
   {
    "duration": 5,
    "start_time": "2023-01-22T09:46:23.418Z"
   },
   {
    "duration": 3,
    "start_time": "2023-01-22T09:46:27.999Z"
   },
   {
    "duration": 69,
    "start_time": "2023-01-22T09:46:28.538Z"
   },
   {
    "duration": 17,
    "start_time": "2023-01-22T09:46:32.291Z"
   },
   {
    "duration": 17,
    "start_time": "2023-01-22T09:46:35.435Z"
   },
   {
    "duration": 12,
    "start_time": "2023-01-22T09:46:40.324Z"
   },
   {
    "duration": 47,
    "start_time": "2023-01-22T09:46:43.034Z"
   },
   {
    "duration": 4,
    "start_time": "2023-01-22T09:46:46.201Z"
   },
   {
    "duration": 9,
    "start_time": "2023-01-22T09:46:48.774Z"
   },
   {
    "duration": 6,
    "start_time": "2023-01-22T09:46:51.674Z"
   },
   {
    "duration": 6,
    "start_time": "2023-01-22T09:46:54.448Z"
   },
   {
    "duration": 5,
    "start_time": "2023-01-22T09:46:57.174Z"
   },
   {
    "duration": 124,
    "start_time": "2023-01-22T09:47:00.630Z"
   },
   {
    "duration": 4,
    "start_time": "2023-01-22T09:47:10.097Z"
   },
   {
    "duration": 20,
    "start_time": "2023-01-22T09:47:20.725Z"
   },
   {
    "duration": 367,
    "start_time": "2023-01-22T09:48:10.999Z"
   },
   {
    "duration": 464,
    "start_time": "2023-01-22T09:48:21.027Z"
   },
   {
    "duration": 434,
    "start_time": "2023-01-22T09:49:37.509Z"
   },
   {
    "duration": 460,
    "start_time": "2023-01-22T09:50:09.649Z"
   },
   {
    "duration": 367,
    "start_time": "2023-01-22T09:51:55.643Z"
   },
   {
    "duration": 355,
    "start_time": "2023-01-22T09:54:05.748Z"
   },
   {
    "duration": 398,
    "start_time": "2023-01-22T09:54:08.171Z"
   },
   {
    "duration": 15,
    "start_time": "2023-01-22T09:54:12.055Z"
   },
   {
    "duration": 20,
    "start_time": "2023-01-22T09:54:15.829Z"
   },
   {
    "duration": 24,
    "start_time": "2023-01-22T09:56:10.261Z"
   },
   {
    "duration": 33,
    "start_time": "2023-01-22T09:56:44.817Z"
   },
   {
    "duration": 46,
    "start_time": "2023-01-22T09:57:33.883Z"
   },
   {
    "duration": 48,
    "start_time": "2023-01-22T09:58:59.473Z"
   },
   {
    "duration": 47,
    "start_time": "2023-01-22T09:59:07.679Z"
   },
   {
    "duration": 3,
    "start_time": "2023-01-22T10:00:40.868Z"
   },
   {
    "duration": 73,
    "start_time": "2023-01-22T10:00:41.066Z"
   },
   {
    "duration": 20,
    "start_time": "2023-01-22T10:00:41.467Z"
   },
   {
    "duration": 25,
    "start_time": "2023-01-22T10:00:41.870Z"
   },
   {
    "duration": 13,
    "start_time": "2023-01-22T10:00:42.867Z"
   },
   {
    "duration": 67,
    "start_time": "2023-01-22T10:00:43.603Z"
   },
   {
    "duration": 5,
    "start_time": "2023-01-22T10:00:44.964Z"
   },
   {
    "duration": 10,
    "start_time": "2023-01-22T10:00:45.229Z"
   },
   {
    "duration": 6,
    "start_time": "2023-01-22T10:00:47.466Z"
   },
   {
    "duration": 6,
    "start_time": "2023-01-22T10:00:48.469Z"
   },
   {
    "duration": 7,
    "start_time": "2023-01-22T10:00:49.110Z"
   },
   {
    "duration": 153,
    "start_time": "2023-01-22T10:00:50.230Z"
   },
   {
    "duration": 19,
    "start_time": "2023-01-22T10:00:51.733Z"
   },
   {
    "duration": 388,
    "start_time": "2023-01-22T10:01:03.443Z"
   },
   {
    "duration": 15,
    "start_time": "2023-01-22T10:01:03.990Z"
   },
   {
    "duration": 27,
    "start_time": "2023-01-22T10:01:06.311Z"
   },
   {
    "duration": 22,
    "start_time": "2023-01-22T10:01:07.587Z"
   },
   {
    "duration": 24,
    "start_time": "2023-01-22T10:01:08.928Z"
   },
   {
    "duration": 49,
    "start_time": "2023-01-22T10:01:09.974Z"
   },
   {
    "duration": 75,
    "start_time": "2023-01-22T10:07:49.532Z"
   },
   {
    "duration": 16,
    "start_time": "2023-01-22T10:08:00.063Z"
   },
   {
    "duration": 8,
    "start_time": "2023-01-22T10:09:13.091Z"
   },
   {
    "duration": 4,
    "start_time": "2023-01-22T10:09:17.887Z"
   },
   {
    "duration": 369,
    "start_time": "2023-01-22T10:09:19.992Z"
   },
   {
    "duration": 319,
    "start_time": "2023-01-22T10:10:30.639Z"
   },
   {
    "duration": 3,
    "start_time": "2023-01-22T10:12:05.143Z"
   },
   {
    "duration": 1125,
    "start_time": "2023-01-22T10:12:07.691Z"
   },
   {
    "duration": 4,
    "start_time": "2023-01-22T10:12:17.582Z"
   },
   {
    "duration": 206,
    "start_time": "2023-01-22T10:12:19.889Z"
   },
   {
    "duration": 155,
    "start_time": "2023-01-22T10:12:35.533Z"
   },
   {
    "duration": 5,
    "start_time": "2023-01-22T10:14:03.056Z"
   }
  ],
  "colab": {
   "provenance": []
  },
  "kernelspec": {
   "display_name": "Python 3 (ipykernel)",
   "language": "python",
   "name": "python3"
  },
  "language_info": {
   "codemirror_mode": {
    "name": "ipython",
    "version": 3
   },
   "file_extension": ".py",
   "mimetype": "text/x-python",
   "name": "python",
   "nbconvert_exporter": "python",
   "pygments_lexer": "ipython3",
   "version": "3.9.5"
  },
  "toc": {
   "base_numbering": 1,
   "nav_menu": {},
   "number_sections": true,
   "sideBar": true,
   "skip_h1_title": true,
   "title_cell": "Table of Contents",
   "title_sidebar": "Contents",
   "toc_cell": false,
   "toc_position": {},
   "toc_section_display": true,
   "toc_window_display": false
  }
 },
 "nbformat": 4,
 "nbformat_minor": 5
}
